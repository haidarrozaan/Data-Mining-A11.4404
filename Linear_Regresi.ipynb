{
  "nbformat": 4,
  "nbformat_minor": 0,
  "metadata": {
    "colab": {
      "provenance": []
    },
    "kernelspec": {
      "name": "python3",
      "display_name": "Python 3"
    },
    "language_info": {
      "name": "python"
    }
  },
  "cells": [
    {
      "cell_type": "code",
      "execution_count": 1,
      "metadata": {
        "id": "uSORw0Mi9F0-"
      },
      "outputs": [],
      "source": [
        "from scipy import stats"
      ]
    },
    {
      "cell_type": "code",
      "source": [
        "# x = data tinggi badan (cm)\n",
        "x = [151,174,138,186,128,136,179,163,152,131]"
      ],
      "metadata": {
        "id": "zu9KiMJZ9St0"
      },
      "execution_count": 2,
      "outputs": []
    },
    {
      "cell_type": "code",
      "source": [
        "# y = data berat badan (kg)\n",
        "y =[63,81,56,91,47,57,76,72,62,48]"
      ],
      "metadata": {
        "id": "gOe-ifcZ90S0"
      },
      "execution_count": 3,
      "outputs": []
    },
    {
      "cell_type": "code",
      "source": [
        "slope, intercept, r, p, std_err = stats.linregress(x,y)"
      ],
      "metadata": {
        "id": "RFpBSxXP-Lul"
      },
      "execution_count": 4,
      "outputs": []
    },
    {
      "cell_type": "code",
      "source": [
        "# Buat Fungsi Linear Regresi => y = 0.67461045 x - 38.45508707607701\n",
        "def myfunc(x):\n",
        "  return slope * x + intercept"
      ],
      "metadata": {
        "id": "Kf4qMOHJ-cHa"
      },
      "execution_count": 5,
      "outputs": []
    },
    {
      "cell_type": "code",
      "source": [
        "berat_badan = myfunc(151)"
      ],
      "metadata": {
        "id": "qj54SsOo_LLG"
      },
      "execution_count": 6,
      "outputs": []
    },
    {
      "cell_type": "code",
      "source": [
        "print(berat_badan)"
      ],
      "metadata": {
        "colab": {
          "base_uri": "https://localhost:8080/"
        },
        "id": "igtdKj25_Rzz",
        "outputId": "193065a4-38f7-4879-ef87-337f3f1c0289"
      },
      "execution_count": 7,
      "outputs": [
        {
          "output_type": "stream",
          "name": "stdout",
          "text": [
            "63.41109074243812\n"
          ]
        }
      ]
    }
  ]
}